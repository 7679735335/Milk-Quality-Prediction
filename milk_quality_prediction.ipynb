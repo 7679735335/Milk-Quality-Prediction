{
  "cells": [
    {
      "cell_type": "markdown",
      "metadata": {
        "id": "view-in-github",
        "colab_type": "text"
      },
      "source": [
        "<a href=\"https://colab.research.google.com/github/7679735335/Milk-Quality-Prediction/blob/main/milk_quality_prediction.ipynb\" target=\"_parent\"><img src=\"https://colab.research.google.com/assets/colab-badge.svg\" alt=\"Open In Colab\"/></a>"
      ]
    },
    {
      "cell_type": "code",
      "source": [
        "pip install kaggle"
      ],
      "metadata": {
        "colab": {
          "base_uri": "https://localhost:8080/"
        },
        "id": "R4OVrfaGX7ub",
        "outputId": "1eb099b1-051a-4ebf-942a-2076442f1fa0"
      },
      "id": "R4OVrfaGX7ub",
      "execution_count": 1,
      "outputs": [
        {
          "output_type": "stream",
          "name": "stdout",
          "text": [
            "Looking in indexes: https://pypi.org/simple, https://us-python.pkg.dev/colab-wheels/public/simple/\n",
            "Requirement already satisfied: kaggle in /usr/local/lib/python3.7/dist-packages (1.5.12)\n",
            "Requirement already satisfied: certifi in /usr/local/lib/python3.7/dist-packages (from kaggle) (2022.6.15)\n",
            "Requirement already satisfied: urllib3 in /usr/local/lib/python3.7/dist-packages (from kaggle) (1.24.3)\n",
            "Requirement already satisfied: six>=1.10 in /usr/local/lib/python3.7/dist-packages (from kaggle) (1.15.0)\n",
            "Requirement already satisfied: python-slugify in /usr/local/lib/python3.7/dist-packages (from kaggle) (6.1.2)\n",
            "Requirement already satisfied: tqdm in /usr/local/lib/python3.7/dist-packages (from kaggle) (4.64.0)\n",
            "Requirement already satisfied: python-dateutil in /usr/local/lib/python3.7/dist-packages (from kaggle) (2.8.2)\n",
            "Requirement already satisfied: requests in /usr/local/lib/python3.7/dist-packages (from kaggle) (2.23.0)\n",
            "Requirement already satisfied: text-unidecode>=1.3 in /usr/local/lib/python3.7/dist-packages (from python-slugify->kaggle) (1.3)\n",
            "Requirement already satisfied: chardet<4,>=3.0.2 in /usr/local/lib/python3.7/dist-packages (from requests->kaggle) (3.0.4)\n",
            "Requirement already satisfied: idna<3,>=2.5 in /usr/local/lib/python3.7/dist-packages (from requests->kaggle) (2.10)\n"
          ]
        }
      ]
    },
    {
      "cell_type": "code",
      "source": [
        "! mkdir ~/.kaggle\n",
        "\n",
        "! cp kaggle.json ~/.kaggle/"
      ],
      "metadata": {
        "id": "-lEDwguIYDva"
      },
      "id": "-lEDwguIYDva",
      "execution_count": 2,
      "outputs": []
    },
    {
      "cell_type": "code",
      "source": [
        "\n",
        "! chmod 600 ~/.kaggle/kaggle.json"
      ],
      "metadata": {
        "id": "N75sBiQHYH8r"
      },
      "id": "N75sBiQHYH8r",
      "execution_count": 3,
      "outputs": []
    },
    {
      "cell_type": "code",
      "source": [
        "! kaggle datasets download -d cpluzshrijayan/milkquality"
      ],
      "metadata": {
        "colab": {
          "base_uri": "https://localhost:8080/"
        },
        "id": "RDOgvy0LYJ1I",
        "outputId": "32f5dedb-4dad-410e-ba6d-db0cde33bbd7"
      },
      "id": "RDOgvy0LYJ1I",
      "execution_count": 4,
      "outputs": [
        {
          "output_type": "stream",
          "name": "stdout",
          "text": [
            "Downloading milkquality.zip to /content\n",
            "\r  0% 0.00/1.24k [00:00<?, ?B/s]\n",
            "\r100% 1.24k/1.24k [00:00<00:00, 1.25MB/s]\n"
          ]
        }
      ]
    },
    {
      "cell_type": "code",
      "source": [
        "import zipfile as zp \n",
        "with zp.ZipFile('/content/milkquality.zip', 'r') as zip_ref:\n",
        "    zip_ref.extractall()"
      ],
      "metadata": {
        "id": "PeXvx-WuYVeD"
      },
      "id": "PeXvx-WuYVeD",
      "execution_count": 5,
      "outputs": []
    },
    {
      "cell_type": "code",
      "execution_count": 7,
      "id": "59523691",
      "metadata": {
        "execution": {
          "iopub.execute_input": "2022-08-13T18:00:55.675388Z",
          "iopub.status.busy": "2022-08-13T18:00:55.674165Z",
          "iopub.status.idle": "2022-08-13T18:00:56.945390Z",
          "shell.execute_reply": "2022-08-13T18:00:56.944099Z"
        },
        "papermill": {
          "duration": 1.283254,
          "end_time": "2022-08-13T18:00:56.948493",
          "exception": false,
          "start_time": "2022-08-13T18:00:55.665239",
          "status": "completed"
        },
        "tags": [],
        "id": "59523691"
      },
      "outputs": [],
      "source": [
        "import pandas as pd\n",
        "from sklearn import preprocessing\n",
        "import matplotlib.pyplot as plt\n",
        "import seaborn as sns"
      ]
    },
    {
      "cell_type": "code",
      "execution_count": 8,
      "id": "796307df",
      "metadata": {
        "execution": {
          "iopub.execute_input": "2022-08-13T18:00:56.963255Z",
          "iopub.status.busy": "2022-08-13T18:00:56.962833Z",
          "iopub.status.idle": "2022-08-13T18:00:57.002086Z",
          "shell.execute_reply": "2022-08-13T18:00:57.000593Z"
        },
        "papermill": {
          "duration": 0.049252,
          "end_time": "2022-08-13T18:00:57.004716",
          "exception": false,
          "start_time": "2022-08-13T18:00:56.955464",
          "status": "completed"
        },
        "tags": [],
        "colab": {
          "base_uri": "https://localhost:8080/",
          "height": 206
        },
        "id": "796307df",
        "outputId": "6f9f42ac-1365-4d97-98e4-5db2e0e5e413"
      },
      "outputs": [
        {
          "output_type": "execute_result",
          "data": {
            "text/plain": [
              "    pH  Temprature  Taste  Odor  Fat   Turbidity  Colour   Grade\n",
              "0  6.6          35      1     0     1          0     254    high\n",
              "1  6.6          36      0     1     0          1     253    high\n",
              "2  8.5          70      1     1     1          1     246     low\n",
              "3  9.5          34      1     1     0          1     255     low\n",
              "4  6.6          37      0     0     0          0     255  medium"
            ],
            "text/html": [
              "\n",
              "  <div id=\"df-ee048d35-446a-4236-bed0-66343350de0a\">\n",
              "    <div class=\"colab-df-container\">\n",
              "      <div>\n",
              "<style scoped>\n",
              "    .dataframe tbody tr th:only-of-type {\n",
              "        vertical-align: middle;\n",
              "    }\n",
              "\n",
              "    .dataframe tbody tr th {\n",
              "        vertical-align: top;\n",
              "    }\n",
              "\n",
              "    .dataframe thead th {\n",
              "        text-align: right;\n",
              "    }\n",
              "</style>\n",
              "<table border=\"1\" class=\"dataframe\">\n",
              "  <thead>\n",
              "    <tr style=\"text-align: right;\">\n",
              "      <th></th>\n",
              "      <th>pH</th>\n",
              "      <th>Temprature</th>\n",
              "      <th>Taste</th>\n",
              "      <th>Odor</th>\n",
              "      <th>Fat</th>\n",
              "      <th>Turbidity</th>\n",
              "      <th>Colour</th>\n",
              "      <th>Grade</th>\n",
              "    </tr>\n",
              "  </thead>\n",
              "  <tbody>\n",
              "    <tr>\n",
              "      <th>0</th>\n",
              "      <td>6.6</td>\n",
              "      <td>35</td>\n",
              "      <td>1</td>\n",
              "      <td>0</td>\n",
              "      <td>1</td>\n",
              "      <td>0</td>\n",
              "      <td>254</td>\n",
              "      <td>high</td>\n",
              "    </tr>\n",
              "    <tr>\n",
              "      <th>1</th>\n",
              "      <td>6.6</td>\n",
              "      <td>36</td>\n",
              "      <td>0</td>\n",
              "      <td>1</td>\n",
              "      <td>0</td>\n",
              "      <td>1</td>\n",
              "      <td>253</td>\n",
              "      <td>high</td>\n",
              "    </tr>\n",
              "    <tr>\n",
              "      <th>2</th>\n",
              "      <td>8.5</td>\n",
              "      <td>70</td>\n",
              "      <td>1</td>\n",
              "      <td>1</td>\n",
              "      <td>1</td>\n",
              "      <td>1</td>\n",
              "      <td>246</td>\n",
              "      <td>low</td>\n",
              "    </tr>\n",
              "    <tr>\n",
              "      <th>3</th>\n",
              "      <td>9.5</td>\n",
              "      <td>34</td>\n",
              "      <td>1</td>\n",
              "      <td>1</td>\n",
              "      <td>0</td>\n",
              "      <td>1</td>\n",
              "      <td>255</td>\n",
              "      <td>low</td>\n",
              "    </tr>\n",
              "    <tr>\n",
              "      <th>4</th>\n",
              "      <td>6.6</td>\n",
              "      <td>37</td>\n",
              "      <td>0</td>\n",
              "      <td>0</td>\n",
              "      <td>0</td>\n",
              "      <td>0</td>\n",
              "      <td>255</td>\n",
              "      <td>medium</td>\n",
              "    </tr>\n",
              "  </tbody>\n",
              "</table>\n",
              "</div>\n",
              "      <button class=\"colab-df-convert\" onclick=\"convertToInteractive('df-ee048d35-446a-4236-bed0-66343350de0a')\"\n",
              "              title=\"Convert this dataframe to an interactive table.\"\n",
              "              style=\"display:none;\">\n",
              "        \n",
              "  <svg xmlns=\"http://www.w3.org/2000/svg\" height=\"24px\"viewBox=\"0 0 24 24\"\n",
              "       width=\"24px\">\n",
              "    <path d=\"M0 0h24v24H0V0z\" fill=\"none\"/>\n",
              "    <path d=\"M18.56 5.44l.94 2.06.94-2.06 2.06-.94-2.06-.94-.94-2.06-.94 2.06-2.06.94zm-11 1L8.5 8.5l.94-2.06 2.06-.94-2.06-.94L8.5 2.5l-.94 2.06-2.06.94zm10 10l.94 2.06.94-2.06 2.06-.94-2.06-.94-.94-2.06-.94 2.06-2.06.94z\"/><path d=\"M17.41 7.96l-1.37-1.37c-.4-.4-.92-.59-1.43-.59-.52 0-1.04.2-1.43.59L10.3 9.45l-7.72 7.72c-.78.78-.78 2.05 0 2.83L4 21.41c.39.39.9.59 1.41.59.51 0 1.02-.2 1.41-.59l7.78-7.78 2.81-2.81c.8-.78.8-2.07 0-2.86zM5.41 20L4 18.59l7.72-7.72 1.47 1.35L5.41 20z\"/>\n",
              "  </svg>\n",
              "      </button>\n",
              "      \n",
              "  <style>\n",
              "    .colab-df-container {\n",
              "      display:flex;\n",
              "      flex-wrap:wrap;\n",
              "      gap: 12px;\n",
              "    }\n",
              "\n",
              "    .colab-df-convert {\n",
              "      background-color: #E8F0FE;\n",
              "      border: none;\n",
              "      border-radius: 50%;\n",
              "      cursor: pointer;\n",
              "      display: none;\n",
              "      fill: #1967D2;\n",
              "      height: 32px;\n",
              "      padding: 0 0 0 0;\n",
              "      width: 32px;\n",
              "    }\n",
              "\n",
              "    .colab-df-convert:hover {\n",
              "      background-color: #E2EBFA;\n",
              "      box-shadow: 0px 1px 2px rgba(60, 64, 67, 0.3), 0px 1px 3px 1px rgba(60, 64, 67, 0.15);\n",
              "      fill: #174EA6;\n",
              "    }\n",
              "\n",
              "    [theme=dark] .colab-df-convert {\n",
              "      background-color: #3B4455;\n",
              "      fill: #D2E3FC;\n",
              "    }\n",
              "\n",
              "    [theme=dark] .colab-df-convert:hover {\n",
              "      background-color: #434B5C;\n",
              "      box-shadow: 0px 1px 3px 1px rgba(0, 0, 0, 0.15);\n",
              "      filter: drop-shadow(0px 1px 2px rgba(0, 0, 0, 0.3));\n",
              "      fill: #FFFFFF;\n",
              "    }\n",
              "  </style>\n",
              "\n",
              "      <script>\n",
              "        const buttonEl =\n",
              "          document.querySelector('#df-ee048d35-446a-4236-bed0-66343350de0a button.colab-df-convert');\n",
              "        buttonEl.style.display =\n",
              "          google.colab.kernel.accessAllowed ? 'block' : 'none';\n",
              "\n",
              "        async function convertToInteractive(key) {\n",
              "          const element = document.querySelector('#df-ee048d35-446a-4236-bed0-66343350de0a');\n",
              "          const dataTable =\n",
              "            await google.colab.kernel.invokeFunction('convertToInteractive',\n",
              "                                                     [key], {});\n",
              "          if (!dataTable) return;\n",
              "\n",
              "          const docLinkHtml = 'Like what you see? Visit the ' +\n",
              "            '<a target=\"_blank\" href=https://colab.research.google.com/notebooks/data_table.ipynb>data table notebook</a>'\n",
              "            + ' to learn more about interactive tables.';\n",
              "          element.innerHTML = '';\n",
              "          dataTable['output_type'] = 'display_data';\n",
              "          await google.colab.output.renderOutput(dataTable, element);\n",
              "          const docLink = document.createElement('div');\n",
              "          docLink.innerHTML = docLinkHtml;\n",
              "          element.appendChild(docLink);\n",
              "        }\n",
              "      </script>\n",
              "    </div>\n",
              "  </div>\n",
              "  "
            ]
          },
          "metadata": {},
          "execution_count": 8
        }
      ],
      "source": [
        "data=pd.read_csv(\"/content/milknew.csv\")\n",
        "data.head()"
      ]
    },
    {
      "cell_type": "code",
      "execution_count": 9,
      "id": "8586f0cd",
      "metadata": {
        "execution": {
          "iopub.execute_input": "2022-08-13T18:00:57.019096Z",
          "iopub.status.busy": "2022-08-13T18:00:57.018662Z",
          "iopub.status.idle": "2022-08-13T18:00:57.027322Z",
          "shell.execute_reply": "2022-08-13T18:00:57.026093Z"
        },
        "papermill": {
          "duration": 0.019324,
          "end_time": "2022-08-13T18:00:57.030406",
          "exception": false,
          "start_time": "2022-08-13T18:00:57.011082",
          "status": "completed"
        },
        "tags": [],
        "colab": {
          "base_uri": "https://localhost:8080/"
        },
        "id": "8586f0cd",
        "outputId": "3ad66b12-4db3-401c-8dfa-2e427cd16da5"
      },
      "outputs": [
        {
          "output_type": "stream",
          "name": "stdout",
          "text": [
            "pH            0\n",
            "Temprature    0\n",
            "Taste         0\n",
            "Odor          0\n",
            "Fat           0\n",
            "Turbidity     0\n",
            "Colour        0\n",
            "Grade         0\n",
            "dtype: int64\n"
          ]
        }
      ],
      "source": [
        "print(data.isnull().sum())"
      ]
    },
    {
      "cell_type": "code",
      "execution_count": 10,
      "id": "729d4365",
      "metadata": {
        "execution": {
          "iopub.execute_input": "2022-08-13T18:00:57.045699Z",
          "iopub.status.busy": "2022-08-13T18:00:57.045246Z",
          "iopub.status.idle": "2022-08-13T18:00:57.091716Z",
          "shell.execute_reply": "2022-08-13T18:00:57.090420Z"
        },
        "papermill": {
          "duration": 0.057414,
          "end_time": "2022-08-13T18:00:57.094545",
          "exception": false,
          "start_time": "2022-08-13T18:00:57.037131",
          "status": "completed"
        },
        "tags": [],
        "colab": {
          "base_uri": "https://localhost:8080/",
          "height": 300
        },
        "id": "729d4365",
        "outputId": "92e0c93c-ae00-49ff-a2e0-bcfd4c1158b7"
      },
      "outputs": [
        {
          "output_type": "execute_result",
          "data": {
            "text/plain": [
              "                pH   Temprature        Taste         Odor         Fat   \\\n",
              "count  1059.000000  1059.000000  1059.000000  1059.000000  1059.000000   \n",
              "mean      6.630123    44.226629     0.546742     0.432483     0.671388   \n",
              "std       1.399679    10.098364     0.498046     0.495655     0.469930   \n",
              "min       3.000000    34.000000     0.000000     0.000000     0.000000   \n",
              "25%       6.500000    38.000000     0.000000     0.000000     0.000000   \n",
              "50%       6.700000    41.000000     1.000000     0.000000     1.000000   \n",
              "75%       6.800000    45.000000     1.000000     1.000000     1.000000   \n",
              "max       9.500000    90.000000     1.000000     1.000000     1.000000   \n",
              "\n",
              "         Turbidity       Colour  \n",
              "count  1059.000000  1059.000000  \n",
              "mean      0.491029   251.840415  \n",
              "std       0.500156     4.307424  \n",
              "min       0.000000   240.000000  \n",
              "25%       0.000000   250.000000  \n",
              "50%       0.000000   255.000000  \n",
              "75%       1.000000   255.000000  \n",
              "max       1.000000   255.000000  "
            ],
            "text/html": [
              "\n",
              "  <div id=\"df-b5cbf371-6dd3-49c5-abea-74e15af40595\">\n",
              "    <div class=\"colab-df-container\">\n",
              "      <div>\n",
              "<style scoped>\n",
              "    .dataframe tbody tr th:only-of-type {\n",
              "        vertical-align: middle;\n",
              "    }\n",
              "\n",
              "    .dataframe tbody tr th {\n",
              "        vertical-align: top;\n",
              "    }\n",
              "\n",
              "    .dataframe thead th {\n",
              "        text-align: right;\n",
              "    }\n",
              "</style>\n",
              "<table border=\"1\" class=\"dataframe\">\n",
              "  <thead>\n",
              "    <tr style=\"text-align: right;\">\n",
              "      <th></th>\n",
              "      <th>pH</th>\n",
              "      <th>Temprature</th>\n",
              "      <th>Taste</th>\n",
              "      <th>Odor</th>\n",
              "      <th>Fat</th>\n",
              "      <th>Turbidity</th>\n",
              "      <th>Colour</th>\n",
              "    </tr>\n",
              "  </thead>\n",
              "  <tbody>\n",
              "    <tr>\n",
              "      <th>count</th>\n",
              "      <td>1059.000000</td>\n",
              "      <td>1059.000000</td>\n",
              "      <td>1059.000000</td>\n",
              "      <td>1059.000000</td>\n",
              "      <td>1059.000000</td>\n",
              "      <td>1059.000000</td>\n",
              "      <td>1059.000000</td>\n",
              "    </tr>\n",
              "    <tr>\n",
              "      <th>mean</th>\n",
              "      <td>6.630123</td>\n",
              "      <td>44.226629</td>\n",
              "      <td>0.546742</td>\n",
              "      <td>0.432483</td>\n",
              "      <td>0.671388</td>\n",
              "      <td>0.491029</td>\n",
              "      <td>251.840415</td>\n",
              "    </tr>\n",
              "    <tr>\n",
              "      <th>std</th>\n",
              "      <td>1.399679</td>\n",
              "      <td>10.098364</td>\n",
              "      <td>0.498046</td>\n",
              "      <td>0.495655</td>\n",
              "      <td>0.469930</td>\n",
              "      <td>0.500156</td>\n",
              "      <td>4.307424</td>\n",
              "    </tr>\n",
              "    <tr>\n",
              "      <th>min</th>\n",
              "      <td>3.000000</td>\n",
              "      <td>34.000000</td>\n",
              "      <td>0.000000</td>\n",
              "      <td>0.000000</td>\n",
              "      <td>0.000000</td>\n",
              "      <td>0.000000</td>\n",
              "      <td>240.000000</td>\n",
              "    </tr>\n",
              "    <tr>\n",
              "      <th>25%</th>\n",
              "      <td>6.500000</td>\n",
              "      <td>38.000000</td>\n",
              "      <td>0.000000</td>\n",
              "      <td>0.000000</td>\n",
              "      <td>0.000000</td>\n",
              "      <td>0.000000</td>\n",
              "      <td>250.000000</td>\n",
              "    </tr>\n",
              "    <tr>\n",
              "      <th>50%</th>\n",
              "      <td>6.700000</td>\n",
              "      <td>41.000000</td>\n",
              "      <td>1.000000</td>\n",
              "      <td>0.000000</td>\n",
              "      <td>1.000000</td>\n",
              "      <td>0.000000</td>\n",
              "      <td>255.000000</td>\n",
              "    </tr>\n",
              "    <tr>\n",
              "      <th>75%</th>\n",
              "      <td>6.800000</td>\n",
              "      <td>45.000000</td>\n",
              "      <td>1.000000</td>\n",
              "      <td>1.000000</td>\n",
              "      <td>1.000000</td>\n",
              "      <td>1.000000</td>\n",
              "      <td>255.000000</td>\n",
              "    </tr>\n",
              "    <tr>\n",
              "      <th>max</th>\n",
              "      <td>9.500000</td>\n",
              "      <td>90.000000</td>\n",
              "      <td>1.000000</td>\n",
              "      <td>1.000000</td>\n",
              "      <td>1.000000</td>\n",
              "      <td>1.000000</td>\n",
              "      <td>255.000000</td>\n",
              "    </tr>\n",
              "  </tbody>\n",
              "</table>\n",
              "</div>\n",
              "      <button class=\"colab-df-convert\" onclick=\"convertToInteractive('df-b5cbf371-6dd3-49c5-abea-74e15af40595')\"\n",
              "              title=\"Convert this dataframe to an interactive table.\"\n",
              "              style=\"display:none;\">\n",
              "        \n",
              "  <svg xmlns=\"http://www.w3.org/2000/svg\" height=\"24px\"viewBox=\"0 0 24 24\"\n",
              "       width=\"24px\">\n",
              "    <path d=\"M0 0h24v24H0V0z\" fill=\"none\"/>\n",
              "    <path d=\"M18.56 5.44l.94 2.06.94-2.06 2.06-.94-2.06-.94-.94-2.06-.94 2.06-2.06.94zm-11 1L8.5 8.5l.94-2.06 2.06-.94-2.06-.94L8.5 2.5l-.94 2.06-2.06.94zm10 10l.94 2.06.94-2.06 2.06-.94-2.06-.94-.94-2.06-.94 2.06-2.06.94z\"/><path d=\"M17.41 7.96l-1.37-1.37c-.4-.4-.92-.59-1.43-.59-.52 0-1.04.2-1.43.59L10.3 9.45l-7.72 7.72c-.78.78-.78 2.05 0 2.83L4 21.41c.39.39.9.59 1.41.59.51 0 1.02-.2 1.41-.59l7.78-7.78 2.81-2.81c.8-.78.8-2.07 0-2.86zM5.41 20L4 18.59l7.72-7.72 1.47 1.35L5.41 20z\"/>\n",
              "  </svg>\n",
              "      </button>\n",
              "      \n",
              "  <style>\n",
              "    .colab-df-container {\n",
              "      display:flex;\n",
              "      flex-wrap:wrap;\n",
              "      gap: 12px;\n",
              "    }\n",
              "\n",
              "    .colab-df-convert {\n",
              "      background-color: #E8F0FE;\n",
              "      border: none;\n",
              "      border-radius: 50%;\n",
              "      cursor: pointer;\n",
              "      display: none;\n",
              "      fill: #1967D2;\n",
              "      height: 32px;\n",
              "      padding: 0 0 0 0;\n",
              "      width: 32px;\n",
              "    }\n",
              "\n",
              "    .colab-df-convert:hover {\n",
              "      background-color: #E2EBFA;\n",
              "      box-shadow: 0px 1px 2px rgba(60, 64, 67, 0.3), 0px 1px 3px 1px rgba(60, 64, 67, 0.15);\n",
              "      fill: #174EA6;\n",
              "    }\n",
              "\n",
              "    [theme=dark] .colab-df-convert {\n",
              "      background-color: #3B4455;\n",
              "      fill: #D2E3FC;\n",
              "    }\n",
              "\n",
              "    [theme=dark] .colab-df-convert:hover {\n",
              "      background-color: #434B5C;\n",
              "      box-shadow: 0px 1px 3px 1px rgba(0, 0, 0, 0.15);\n",
              "      filter: drop-shadow(0px 1px 2px rgba(0, 0, 0, 0.3));\n",
              "      fill: #FFFFFF;\n",
              "    }\n",
              "  </style>\n",
              "\n",
              "      <script>\n",
              "        const buttonEl =\n",
              "          document.querySelector('#df-b5cbf371-6dd3-49c5-abea-74e15af40595 button.colab-df-convert');\n",
              "        buttonEl.style.display =\n",
              "          google.colab.kernel.accessAllowed ? 'block' : 'none';\n",
              "\n",
              "        async function convertToInteractive(key) {\n",
              "          const element = document.querySelector('#df-b5cbf371-6dd3-49c5-abea-74e15af40595');\n",
              "          const dataTable =\n",
              "            await google.colab.kernel.invokeFunction('convertToInteractive',\n",
              "                                                     [key], {});\n",
              "          if (!dataTable) return;\n",
              "\n",
              "          const docLinkHtml = 'Like what you see? Visit the ' +\n",
              "            '<a target=\"_blank\" href=https://colab.research.google.com/notebooks/data_table.ipynb>data table notebook</a>'\n",
              "            + ' to learn more about interactive tables.';\n",
              "          element.innerHTML = '';\n",
              "          dataTable['output_type'] = 'display_data';\n",
              "          await google.colab.output.renderOutput(dataTable, element);\n",
              "          const docLink = document.createElement('div');\n",
              "          docLink.innerHTML = docLinkHtml;\n",
              "          element.appendChild(docLink);\n",
              "        }\n",
              "      </script>\n",
              "    </div>\n",
              "  </div>\n",
              "  "
            ]
          },
          "metadata": {},
          "execution_count": 10
        }
      ],
      "source": [
        "data.describe()"
      ]
    },
    {
      "cell_type": "code",
      "execution_count": 11,
      "id": "8095333b",
      "metadata": {
        "execution": {
          "iopub.execute_input": "2022-08-13T18:00:57.109132Z",
          "iopub.status.busy": "2022-08-13T18:00:57.108714Z",
          "iopub.status.idle": "2022-08-13T18:00:57.117209Z",
          "shell.execute_reply": "2022-08-13T18:00:57.115722Z"
        },
        "papermill": {
          "duration": 0.018712,
          "end_time": "2022-08-13T18:00:57.119717",
          "exception": false,
          "start_time": "2022-08-13T18:00:57.101005",
          "status": "completed"
        },
        "tags": [],
        "colab": {
          "base_uri": "https://localhost:8080/"
        },
        "id": "8095333b",
        "outputId": "ef37bb62-311a-45a1-a592-bf521e37522d"
      },
      "outputs": [
        {
          "output_type": "execute_result",
          "data": {
            "text/plain": [
              "Index(['pH', 'Temprature', 'Taste', 'Odor', 'Fat ', 'Turbidity', 'Colour',\n",
              "       'Grade'],\n",
              "      dtype='object')"
            ]
          },
          "metadata": {},
          "execution_count": 11
        }
      ],
      "source": [
        "data.columns"
      ]
    },
    {
      "cell_type": "code",
      "execution_count": 12,
      "id": "731a35eb",
      "metadata": {
        "execution": {
          "iopub.execute_input": "2022-08-13T18:00:57.134580Z",
          "iopub.status.busy": "2022-08-13T18:00:57.134165Z",
          "iopub.status.idle": "2022-08-13T18:00:57.141784Z",
          "shell.execute_reply": "2022-08-13T18:00:57.140852Z"
        },
        "papermill": {
          "duration": 0.017698,
          "end_time": "2022-08-13T18:00:57.143952",
          "exception": false,
          "start_time": "2022-08-13T18:00:57.126254",
          "status": "completed"
        },
        "tags": [],
        "colab": {
          "base_uri": "https://localhost:8080/"
        },
        "id": "731a35eb",
        "outputId": "e3e63b30-4d73-4344-9cce-7472b45256c4"
      },
      "outputs": [
        {
          "output_type": "execute_result",
          "data": {
            "text/plain": [
              "array([1, 0])"
            ]
          },
          "metadata": {},
          "execution_count": 12
        }
      ],
      "source": [
        "data[\"Taste\"].unique()"
      ]
    },
    {
      "cell_type": "code",
      "execution_count": 13,
      "id": "8bfc8881",
      "metadata": {
        "execution": {
          "iopub.execute_input": "2022-08-13T18:00:57.159207Z",
          "iopub.status.busy": "2022-08-13T18:00:57.158790Z",
          "iopub.status.idle": "2022-08-13T18:00:57.166510Z",
          "shell.execute_reply": "2022-08-13T18:00:57.165305Z"
        },
        "papermill": {
          "duration": 0.018307,
          "end_time": "2022-08-13T18:00:57.169046",
          "exception": false,
          "start_time": "2022-08-13T18:00:57.150739",
          "status": "completed"
        },
        "tags": [],
        "colab": {
          "base_uri": "https://localhost:8080/"
        },
        "id": "8bfc8881",
        "outputId": "04f12f3a-bec9-4359-c70f-0b07d26e8012"
      },
      "outputs": [
        {
          "output_type": "execute_result",
          "data": {
            "text/plain": [
              "array([0, 1])"
            ]
          },
          "metadata": {},
          "execution_count": 13
        }
      ],
      "source": [
        "data[\"Odor\"].unique()"
      ]
    },
    {
      "cell_type": "code",
      "execution_count": 14,
      "id": "7dc452c5",
      "metadata": {
        "execution": {
          "iopub.execute_input": "2022-08-13T18:00:57.184467Z",
          "iopub.status.busy": "2022-08-13T18:00:57.184096Z",
          "iopub.status.idle": "2022-08-13T18:00:57.192472Z",
          "shell.execute_reply": "2022-08-13T18:00:57.191403Z"
        },
        "papermill": {
          "duration": 0.019249,
          "end_time": "2022-08-13T18:00:57.195108",
          "exception": false,
          "start_time": "2022-08-13T18:00:57.175859",
          "status": "completed"
        },
        "tags": [],
        "colab": {
          "base_uri": "https://localhost:8080/"
        },
        "id": "7dc452c5",
        "outputId": "bdc9fd06-565a-4134-c83e-3495d74b4cfc"
      },
      "outputs": [
        {
          "output_type": "execute_result",
          "data": {
            "text/plain": [
              "array([1, 0])"
            ]
          },
          "metadata": {},
          "execution_count": 14
        }
      ],
      "source": [
        "data[\"Fat \"].unique()"
      ]
    },
    {
      "cell_type": "code",
      "execution_count": 15,
      "id": "f6826228",
      "metadata": {
        "execution": {
          "iopub.execute_input": "2022-08-13T18:00:57.211373Z",
          "iopub.status.busy": "2022-08-13T18:00:57.210966Z",
          "iopub.status.idle": "2022-08-13T18:00:57.217570Z",
          "shell.execute_reply": "2022-08-13T18:00:57.216700Z"
        },
        "papermill": {
          "duration": 0.017304,
          "end_time": "2022-08-13T18:00:57.219589",
          "exception": false,
          "start_time": "2022-08-13T18:00:57.202285",
          "status": "completed"
        },
        "tags": [],
        "colab": {
          "base_uri": "https://localhost:8080/"
        },
        "id": "f6826228",
        "outputId": "90a7dd98-b41c-4fe4-c17f-c9a36a1b5376"
      },
      "outputs": [
        {
          "output_type": "execute_result",
          "data": {
            "text/plain": [
              "array([0, 1])"
            ]
          },
          "metadata": {},
          "execution_count": 15
        }
      ],
      "source": [
        "data[\"Turbidity\"].unique()"
      ]
    },
    {
      "cell_type": "code",
      "execution_count": 16,
      "id": "08c3bdfe",
      "metadata": {
        "execution": {
          "iopub.execute_input": "2022-08-13T18:00:57.235637Z",
          "iopub.status.busy": "2022-08-13T18:00:57.234892Z",
          "iopub.status.idle": "2022-08-13T18:00:57.243163Z",
          "shell.execute_reply": "2022-08-13T18:00:57.242197Z"
        },
        "papermill": {
          "duration": 0.018925,
          "end_time": "2022-08-13T18:00:57.245507",
          "exception": false,
          "start_time": "2022-08-13T18:00:57.226582",
          "status": "completed"
        },
        "tags": [],
        "id": "08c3bdfe"
      },
      "outputs": [],
      "source": [
        "df = data.astype({\"Taste\":'category',\"Odor\":'category',\"Fat \":'category',\"Turbidity\":'category' })"
      ]
    },
    {
      "cell_type": "code",
      "execution_count": 17,
      "id": "2bab0c0f",
      "metadata": {
        "execution": {
          "iopub.execute_input": "2022-08-13T18:00:57.261441Z",
          "iopub.status.busy": "2022-08-13T18:00:57.260680Z",
          "iopub.status.idle": "2022-08-13T18:00:57.266534Z",
          "shell.execute_reply": "2022-08-13T18:00:57.265589Z"
        },
        "papermill": {
          "duration": 0.017046,
          "end_time": "2022-08-13T18:00:57.269458",
          "exception": false,
          "start_time": "2022-08-13T18:00:57.252412",
          "status": "completed"
        },
        "tags": [],
        "id": "2bab0c0f"
      },
      "outputs": [],
      "source": [
        "# define ordinal encoding\n",
        "label_encoder = preprocessing.LabelEncoder()\n",
        "# transform data\n",
        "df['Grade']= label_encoder.fit_transform(df['Grade'])"
      ]
    },
    {
      "cell_type": "code",
      "execution_count": 18,
      "id": "752371a8",
      "metadata": {
        "execution": {
          "iopub.execute_input": "2022-08-13T18:00:57.286007Z",
          "iopub.status.busy": "2022-08-13T18:00:57.285169Z",
          "iopub.status.idle": "2022-08-13T18:00:57.300565Z",
          "shell.execute_reply": "2022-08-13T18:00:57.299583Z"
        },
        "papermill": {
          "duration": 0.02678,
          "end_time": "2022-08-13T18:00:57.303416",
          "exception": false,
          "start_time": "2022-08-13T18:00:57.276636",
          "status": "completed"
        },
        "tags": [],
        "colab": {
          "base_uri": "https://localhost:8080/",
          "height": 206
        },
        "id": "752371a8",
        "outputId": "c38e5838-23c5-422f-e975-20fb793027f8"
      },
      "outputs": [
        {
          "output_type": "execute_result",
          "data": {
            "text/plain": [
              "    pH  Temprature Taste Odor Fat  Turbidity  Colour  Grade\n",
              "0  6.6          35     1    0    1         0     254      0\n",
              "1  6.6          36     0    1    0         1     253      0\n",
              "2  8.5          70     1    1    1         1     246      1\n",
              "3  9.5          34     1    1    0         1     255      1\n",
              "4  6.6          37     0    0    0         0     255      2"
            ],
            "text/html": [
              "\n",
              "  <div id=\"df-f89bd4f6-bf0d-4e44-b45e-b1f5c8c1d740\">\n",
              "    <div class=\"colab-df-container\">\n",
              "      <div>\n",
              "<style scoped>\n",
              "    .dataframe tbody tr th:only-of-type {\n",
              "        vertical-align: middle;\n",
              "    }\n",
              "\n",
              "    .dataframe tbody tr th {\n",
              "        vertical-align: top;\n",
              "    }\n",
              "\n",
              "    .dataframe thead th {\n",
              "        text-align: right;\n",
              "    }\n",
              "</style>\n",
              "<table border=\"1\" class=\"dataframe\">\n",
              "  <thead>\n",
              "    <tr style=\"text-align: right;\">\n",
              "      <th></th>\n",
              "      <th>pH</th>\n",
              "      <th>Temprature</th>\n",
              "      <th>Taste</th>\n",
              "      <th>Odor</th>\n",
              "      <th>Fat</th>\n",
              "      <th>Turbidity</th>\n",
              "      <th>Colour</th>\n",
              "      <th>Grade</th>\n",
              "    </tr>\n",
              "  </thead>\n",
              "  <tbody>\n",
              "    <tr>\n",
              "      <th>0</th>\n",
              "      <td>6.6</td>\n",
              "      <td>35</td>\n",
              "      <td>1</td>\n",
              "      <td>0</td>\n",
              "      <td>1</td>\n",
              "      <td>0</td>\n",
              "      <td>254</td>\n",
              "      <td>0</td>\n",
              "    </tr>\n",
              "    <tr>\n",
              "      <th>1</th>\n",
              "      <td>6.6</td>\n",
              "      <td>36</td>\n",
              "      <td>0</td>\n",
              "      <td>1</td>\n",
              "      <td>0</td>\n",
              "      <td>1</td>\n",
              "      <td>253</td>\n",
              "      <td>0</td>\n",
              "    </tr>\n",
              "    <tr>\n",
              "      <th>2</th>\n",
              "      <td>8.5</td>\n",
              "      <td>70</td>\n",
              "      <td>1</td>\n",
              "      <td>1</td>\n",
              "      <td>1</td>\n",
              "      <td>1</td>\n",
              "      <td>246</td>\n",
              "      <td>1</td>\n",
              "    </tr>\n",
              "    <tr>\n",
              "      <th>3</th>\n",
              "      <td>9.5</td>\n",
              "      <td>34</td>\n",
              "      <td>1</td>\n",
              "      <td>1</td>\n",
              "      <td>0</td>\n",
              "      <td>1</td>\n",
              "      <td>255</td>\n",
              "      <td>1</td>\n",
              "    </tr>\n",
              "    <tr>\n",
              "      <th>4</th>\n",
              "      <td>6.6</td>\n",
              "      <td>37</td>\n",
              "      <td>0</td>\n",
              "      <td>0</td>\n",
              "      <td>0</td>\n",
              "      <td>0</td>\n",
              "      <td>255</td>\n",
              "      <td>2</td>\n",
              "    </tr>\n",
              "  </tbody>\n",
              "</table>\n",
              "</div>\n",
              "      <button class=\"colab-df-convert\" onclick=\"convertToInteractive('df-f89bd4f6-bf0d-4e44-b45e-b1f5c8c1d740')\"\n",
              "              title=\"Convert this dataframe to an interactive table.\"\n",
              "              style=\"display:none;\">\n",
              "        \n",
              "  <svg xmlns=\"http://www.w3.org/2000/svg\" height=\"24px\"viewBox=\"0 0 24 24\"\n",
              "       width=\"24px\">\n",
              "    <path d=\"M0 0h24v24H0V0z\" fill=\"none\"/>\n",
              "    <path d=\"M18.56 5.44l.94 2.06.94-2.06 2.06-.94-2.06-.94-.94-2.06-.94 2.06-2.06.94zm-11 1L8.5 8.5l.94-2.06 2.06-.94-2.06-.94L8.5 2.5l-.94 2.06-2.06.94zm10 10l.94 2.06.94-2.06 2.06-.94-2.06-.94-.94-2.06-.94 2.06-2.06.94z\"/><path d=\"M17.41 7.96l-1.37-1.37c-.4-.4-.92-.59-1.43-.59-.52 0-1.04.2-1.43.59L10.3 9.45l-7.72 7.72c-.78.78-.78 2.05 0 2.83L4 21.41c.39.39.9.59 1.41.59.51 0 1.02-.2 1.41-.59l7.78-7.78 2.81-2.81c.8-.78.8-2.07 0-2.86zM5.41 20L4 18.59l7.72-7.72 1.47 1.35L5.41 20z\"/>\n",
              "  </svg>\n",
              "      </button>\n",
              "      \n",
              "  <style>\n",
              "    .colab-df-container {\n",
              "      display:flex;\n",
              "      flex-wrap:wrap;\n",
              "      gap: 12px;\n",
              "    }\n",
              "\n",
              "    .colab-df-convert {\n",
              "      background-color: #E8F0FE;\n",
              "      border: none;\n",
              "      border-radius: 50%;\n",
              "      cursor: pointer;\n",
              "      display: none;\n",
              "      fill: #1967D2;\n",
              "      height: 32px;\n",
              "      padding: 0 0 0 0;\n",
              "      width: 32px;\n",
              "    }\n",
              "\n",
              "    .colab-df-convert:hover {\n",
              "      background-color: #E2EBFA;\n",
              "      box-shadow: 0px 1px 2px rgba(60, 64, 67, 0.3), 0px 1px 3px 1px rgba(60, 64, 67, 0.15);\n",
              "      fill: #174EA6;\n",
              "    }\n",
              "\n",
              "    [theme=dark] .colab-df-convert {\n",
              "      background-color: #3B4455;\n",
              "      fill: #D2E3FC;\n",
              "    }\n",
              "\n",
              "    [theme=dark] .colab-df-convert:hover {\n",
              "      background-color: #434B5C;\n",
              "      box-shadow: 0px 1px 3px 1px rgba(0, 0, 0, 0.15);\n",
              "      filter: drop-shadow(0px 1px 2px rgba(0, 0, 0, 0.3));\n",
              "      fill: #FFFFFF;\n",
              "    }\n",
              "  </style>\n",
              "\n",
              "      <script>\n",
              "        const buttonEl =\n",
              "          document.querySelector('#df-f89bd4f6-bf0d-4e44-b45e-b1f5c8c1d740 button.colab-df-convert');\n",
              "        buttonEl.style.display =\n",
              "          google.colab.kernel.accessAllowed ? 'block' : 'none';\n",
              "\n",
              "        async function convertToInteractive(key) {\n",
              "          const element = document.querySelector('#df-f89bd4f6-bf0d-4e44-b45e-b1f5c8c1d740');\n",
              "          const dataTable =\n",
              "            await google.colab.kernel.invokeFunction('convertToInteractive',\n",
              "                                                     [key], {});\n",
              "          if (!dataTable) return;\n",
              "\n",
              "          const docLinkHtml = 'Like what you see? Visit the ' +\n",
              "            '<a target=\"_blank\" href=https://colab.research.google.com/notebooks/data_table.ipynb>data table notebook</a>'\n",
              "            + ' to learn more about interactive tables.';\n",
              "          element.innerHTML = '';\n",
              "          dataTable['output_type'] = 'display_data';\n",
              "          await google.colab.output.renderOutput(dataTable, element);\n",
              "          const docLink = document.createElement('div');\n",
              "          docLink.innerHTML = docLinkHtml;\n",
              "          element.appendChild(docLink);\n",
              "        }\n",
              "      </script>\n",
              "    </div>\n",
              "  </div>\n",
              "  "
            ]
          },
          "metadata": {},
          "execution_count": 18
        }
      ],
      "source": [
        "df.head()"
      ]
    },
    {
      "cell_type": "code",
      "execution_count": 19,
      "id": "16b7d642",
      "metadata": {
        "execution": {
          "iopub.execute_input": "2022-08-13T18:00:57.319868Z",
          "iopub.status.busy": "2022-08-13T18:00:57.319402Z",
          "iopub.status.idle": "2022-08-13T18:00:57.544639Z",
          "shell.execute_reply": "2022-08-13T18:00:57.543412Z"
        },
        "papermill": {
          "duration": 0.236555,
          "end_time": "2022-08-13T18:00:57.547268",
          "exception": false,
          "start_time": "2022-08-13T18:00:57.310713",
          "status": "completed"
        },
        "tags": [],
        "colab": {
          "base_uri": "https://localhost:8080/",
          "height": 280
        },
        "id": "16b7d642",
        "outputId": "f673b64d-1965-4e8d-9a34-bc33de33b63b"
      },
      "outputs": [
        {
          "output_type": "execute_result",
          "data": {
            "text/plain": [
              "<matplotlib.axes._subplots.AxesSubplot at 0x7f23f63bffd0>"
            ]
          },
          "metadata": {},
          "execution_count": 19
        },
        {
          "output_type": "display_data",
          "data": {
            "text/plain": [
              "<Figure size 432x288 with 1 Axes>"
            ],
            "image/png": "[encoded data removed]"
          },
          "metadata": {
            "needs_background": "light"
          }
        }
      ],
      "source": [
        "df['Grade'].value_counts().plot.bar()"
      ]
    },
    {
      "cell_type": "code",
      "execution_count": 20,
      "id": "78258393",
      "metadata": {
        "execution": {
          "iopub.execute_input": "2022-08-13T18:00:57.564474Z",
          "iopub.status.busy": "2022-08-13T18:00:57.563751Z",
          "iopub.status.idle": "2022-08-13T18:00:57.572202Z",
          "shell.execute_reply": "2022-08-13T18:00:57.570587Z"
        },
        "papermill": {
          "duration": 0.020828,
          "end_time": "2022-08-13T18:00:57.575636",
          "exception": false,
          "start_time": "2022-08-13T18:00:57.554808",
          "status": "completed"
        },
        "tags": [],
        "colab": {
          "base_uri": "https://localhost:8080/"
        },
        "id": "78258393",
        "outputId": "11ccd498-9896-4b71-cbfa-b2461078e449"
      },
      "outputs": [
        {
          "output_type": "stream",
          "name": "stderr",
          "text": [
            "/usr/local/lib/python3.7/dist-packages/ipykernel_launcher.py:1: FutureWarning: In a future version of pandas all arguments of DataFrame.drop except for the argument 'labels' will be keyword-only\n",
            "  \"\"\"Entry point for launching an IPython kernel.\n"
          ]
        }
      ],
      "source": [
        "x=df.drop(\"Grade\",1)   #independent variables\n",
        "y=df[\"Grade\"]             #Response Variable"
      ]
    },
    {
      "cell_type": "markdown",
      "id": "3cc03a22",
      "metadata": {
        "papermill": {
          "duration": 0.007056,
          "end_time": "2022-08-13T18:00:57.590560",
          "exception": false,
          "start_time": "2022-08-13T18:00:57.583504",
          "status": "completed"
        },
        "tags": [],
        "id": "3cc03a22"
      },
      "source": [
        "**Feature Selection**"
      ]
    },
    {
      "cell_type": "code",
      "execution_count": 21,
      "id": "ee52c8f8",
      "metadata": {
        "execution": {
          "iopub.execute_input": "2022-08-13T18:00:57.608092Z",
          "iopub.status.busy": "2022-08-13T18:00:57.607477Z",
          "iopub.status.idle": "2022-08-13T18:00:58.051344Z",
          "shell.execute_reply": "2022-08-13T18:00:58.050166Z"
        },
        "papermill": {
          "duration": 0.4553,
          "end_time": "2022-08-13T18:00:58.053891",
          "exception": false,
          "start_time": "2022-08-13T18:00:57.598591",
          "status": "completed"
        },
        "tags": [],
        "colab": {
          "base_uri": "https://localhost:8080/"
        },
        "id": "ee52c8f8",
        "outputId": "058bfd19-059c-455c-e778-394d037ab292"
      },
      "outputs": [
        {
          "output_type": "execute_result",
          "data": {
            "text/plain": [
              "ExtraTreesClassifier()"
            ]
          },
          "metadata": {},
          "execution_count": 21
        }
      ],
      "source": [
        "from sklearn.ensemble import ExtraTreesClassifier\n",
        "import matplotlib.pyplot as plt\n",
        "model=ExtraTreesClassifier()\n",
        "model.fit(x,y)\n"
      ]
    },
    {
      "cell_type": "code",
      "execution_count": 22,
      "id": "3e469c63",
      "metadata": {
        "execution": {
          "iopub.execute_input": "2022-08-13T18:00:58.070810Z",
          "iopub.status.busy": "2022-08-13T18:00:58.070379Z",
          "iopub.status.idle": "2022-08-13T18:00:58.293420Z",
          "shell.execute_reply": "2022-08-13T18:00:58.292142Z"
        },
        "papermill": {
          "duration": 0.234705,
          "end_time": "2022-08-13T18:00:58.296091",
          "exception": false,
          "start_time": "2022-08-13T18:00:58.061386",
          "status": "completed"
        },
        "tags": [],
        "colab": {
          "base_uri": "https://localhost:8080/",
          "height": 265
        },
        "id": "3e469c63",
        "outputId": "bfab2785-4fc8-4771-83c0-fa496c8e89c9"
      },
      "outputs": [
        {
          "output_type": "display_data",
          "data": {
            "text/plain": [
              "<Figure size 432x288 with 1 Axes>"
            ],
            "image/png": "[encoded data removed]"
          },
          "metadata": {
            "needs_background": "light"
          }
        }
      ],
      "source": [
        "ranked_features=pd.Series(model.feature_importances_,index=x.columns)\n",
        "ranked_features.nlargest(10).plot(kind='barh')\n",
        "plt.show()"
      ]
    },
    {
      "cell_type": "code",
      "execution_count": 23,
      "id": "18cb233b",
      "metadata": {
        "execution": {
          "iopub.execute_input": "2022-08-13T18:00:58.313578Z",
          "iopub.status.busy": "2022-08-13T18:00:58.313199Z",
          "iopub.status.idle": "2022-08-13T18:00:58.665547Z",
          "shell.execute_reply": "2022-08-13T18:00:58.664609Z"
        },
        "papermill": {
          "duration": 0.363806,
          "end_time": "2022-08-13T18:00:58.667823",
          "exception": false,
          "start_time": "2022-08-13T18:00:58.304017",
          "status": "completed"
        },
        "tags": [],
        "colab": {
          "base_uri": "https://localhost:8080/",
          "height": 1000
        },
        "id": "18cb233b",
        "outputId": "5f2211db-1623-4310-bc1a-122d77fb5d81"
      },
      "outputs": [
        {
          "output_type": "execute_result",
          "data": {
            "text/plain": [
              "<matplotlib.axes._subplots.AxesSubplot at 0x7f23f5952810>"
            ]
          },
          "metadata": {},
          "execution_count": 23
        },
        {
          "output_type": "display_data",
          "data": {
            "text/plain": [
              "<Figure size 1440x1440 with 2 Axes>"
            ],
            "image/png": "[encoded data removed]"
          },
          "metadata": {
            "needs_background": "light"
          }
        }
      ],
      "source": [
        "import seaborn as sns\n",
        "corr=df.iloc[:,:-1].corr()\n",
        "top_features=corr.index\n",
        "plt.figure(figsize=(20,20))\n",
        "sns.heatmap(df[top_features].corr(),annot=True)"
      ]
    },
    {
      "cell_type": "markdown",
      "id": "56b8d514",
      "metadata": {
        "papermill": {
          "duration": 0.007915,
          "end_time": "2022-08-13T18:00:58.684190",
          "exception": false,
          "start_time": "2022-08-13T18:00:58.676275",
          "status": "completed"
        },
        "tags": [],
        "id": "56b8d514"
      },
      "source": [
        "**Model Fitting**"
      ]
    },
    {
      "cell_type": "code",
      "execution_count": 24,
      "id": "287a9a5a",
      "metadata": {
        "execution": {
          "iopub.execute_input": "2022-08-13T18:00:58.703443Z",
          "iopub.status.busy": "2022-08-13T18:00:58.702847Z",
          "iopub.status.idle": "2022-08-13T18:00:58.709266Z",
          "shell.execute_reply": "2022-08-13T18:00:58.708382Z"
        },
        "papermill": {
          "duration": 0.01911,
          "end_time": "2022-08-13T18:00:58.711683",
          "exception": false,
          "start_time": "2022-08-13T18:00:58.692573",
          "status": "completed"
        },
        "tags": [],
        "id": "287a9a5a"
      },
      "outputs": [],
      "source": [
        "from sklearn.model_selection import train_test_split\n",
        "#data slipt into 80% and 20%\n",
        "x_train,x_test,y_train,y_test=train_test_split(x,y,test_size=0.2) "
      ]
    },
    {
      "cell_type": "code",
      "execution_count": 25,
      "id": "2eb4047f",
      "metadata": {
        "execution": {
          "iopub.execute_input": "2022-08-13T18:00:58.731491Z",
          "iopub.status.busy": "2022-08-13T18:00:58.730730Z",
          "iopub.status.idle": "2022-08-13T18:00:59.007257Z",
          "shell.execute_reply": "2022-08-13T18:00:59.006080Z"
        },
        "papermill": {
          "duration": 0.289772,
          "end_time": "2022-08-13T18:00:59.010201",
          "exception": false,
          "start_time": "2022-08-13T18:00:58.720429",
          "status": "completed"
        },
        "tags": [],
        "id": "2eb4047f"
      },
      "outputs": [],
      "source": [
        "from sklearn.ensemble import GradientBoostingClassifier\n",
        "\n",
        "clf = GradientBoostingClassifier(n_estimators=100, learning_rate=1.0,max_depth=1, random_state=0)\n",
        "clf.fit(x_train, y_train)\n",
        "y_pred=clf.predict(x_test)"
      ]
    },
    {
      "cell_type": "code",
      "execution_count": 26,
      "id": "882daff7",
      "metadata": {
        "execution": {
          "iopub.execute_input": "2022-08-13T18:00:59.029962Z",
          "iopub.status.busy": "2022-08-13T18:00:59.029473Z",
          "iopub.status.idle": "2022-08-13T18:00:59.039045Z",
          "shell.execute_reply": "2022-08-13T18:00:59.037858Z"
        },
        "papermill": {
          "duration": 0.02234,
          "end_time": "2022-08-13T18:00:59.041595",
          "exception": false,
          "start_time": "2022-08-13T18:00:59.019255",
          "status": "completed"
        },
        "tags": [],
        "id": "882daff7"
      },
      "outputs": [],
      "source": [
        "from sklearn.metrics import confusion_matrix\n",
        "cm=confusion_matrix(y_test,y_pred)"
      ]
    },
    {
      "cell_type": "code",
      "execution_count": 27,
      "id": "7e0db225",
      "metadata": {
        "execution": {
          "iopub.execute_input": "2022-08-13T18:00:59.061346Z",
          "iopub.status.busy": "2022-08-13T18:00:59.060855Z",
          "iopub.status.idle": "2022-08-13T18:00:59.067924Z",
          "shell.execute_reply": "2022-08-13T18:00:59.066627Z"
        },
        "papermill": {
          "duration": 0.022188,
          "end_time": "2022-08-13T18:00:59.072488",
          "exception": false,
          "start_time": "2022-08-13T18:00:59.050300",
          "status": "completed"
        },
        "tags": [],
        "colab": {
          "base_uri": "https://localhost:8080/"
        },
        "id": "7e0db225",
        "outputId": "b1ac166e-ffb0-444e-9132-16167abd73b5"
      },
      "outputs": [
        {
          "output_type": "stream",
          "name": "stdout",
          "text": [
            "accuracy : 59 %\n"
          ]
        }
      ],
      "source": [
        "ls=list(x_test.shape)\n",
        "print(\"accuracy :\",round(((cm[0,0]+cm[1,1])/ls[0])*100),'%')"
      ]
    }
  ],
  "metadata": {
    "kernelspec": {
      "display_name": "Python 3",
      "language": "python",
      "name": "python3"
    },
    "language_info": {
      "codemirror_mode": {
        "name": "ipython",
        "version": 3
      },
      "file_extension": ".py",
      "mimetype": "text/x-python",
      "name": "python",
      "nbconvert_exporter": "python",
      "pygments_lexer": "ipython3",
      "version": "3.7.12"
    },
    "papermill": {
      "default_parameters": {},
      "duration": 15.207139,
      "end_time": "2022-08-13T18:00:59.905257",
      "environment_variables": {},
      "exception": null,
      "input_path": "__notebook__.ipynb",
      "output_path": "__notebook__.ipynb",
      "parameters": {},
      "start_time": "2022-08-13T18:00:44.698118",
      "version": "2.3.4"
    },
    "colab": {
      "name": "milk-quality-prediction.ipynb",
      "provenance": [],
      "include_colab_link": true
    }
  },
  "nbformat": 4,
  "nbformat_minor": 5
}